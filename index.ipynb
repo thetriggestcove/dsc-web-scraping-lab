{
 "cells": [
  {
   "cell_type": "markdown",
   "metadata": {},
   "source": [
    "# Web Scraping - Lab\n",
    "\n",
    "## Introduction\n",
    "\n",
    "Now that you've seen a more extensive example of developing a web scraping script, it's time to further practice and formalize that knowledge by writing functions to parse specific pieces of information from the web page and then synthesizing these into a larger loop that will iterate over successive web pages in order to build a complete dataset.\n",
    "\n",
    "## Objectives\n",
    "\n",
    "You will be able to:\n",
    "\n",
    "* Navigate HTML documents using Beautiful Soup's children and sibling relations\n",
    "* Select specific elements from HTML using Beautiful Soup\n",
    "* Use regular expressions to extract items with a certain pattern within Beautiful Soup\n",
    "* Determine the pagination scheme of a website and scrape multiple pages"
   ]
  },
  {
   "cell_type": "markdown",
   "metadata": {},
   "source": [
    "## Lab Overview\n",
    "\n",
    "This lab will build upon the previous lesson. In the end, you'll look to write a script that will iterate over all of the pages for the demo site and extract the title, price, star rating and availability of each book listed. Building up to that, you'll formalize the concepts from the lesson by writing functions that will extract a list of each of these features for each web page. You'll then combine these functions into the full script which will look something like this:  \n",
    "\n",
    "```python\n",
    "df = pd.DataFrame()\n",
    "for i in range(2,51):\n",
    "    url = \"http://books.toscrape.com/catalogue/page-{}.html\".format(i)\n",
    "    soup = BeautifulSoup(html_page.content, 'html.parser')\n",
    "    new_titles = retrieve_titles(soup)\n",
    "    new_star_ratings = retrieve_ratings(soup)\n",
    "    new_prices = retrieve_prices(soup)\n",
    "    new_avails = retrieve_avails(soup)\n",
    "    ...\n",
    " ```"
   ]
  },
  {
   "cell_type": "markdown",
   "metadata": {},
   "source": [
    "## Retrieving Titles\n",
    "\n",
    "To start, write a function that extracts the titles of the books on a given page. The input for the function should be the `soup` for the HTML of the page."
   ]
  },
  {
   "cell_type": "code",
   "execution_count": 100,
   "metadata": {},
   "outputs": [],
   "source": [
    "from bs4 import BeautifulSoup\n",
    "import requests\n",
    "import re\n",
    "import pandas as pd\n",
    "import urllib"
   ]
  },
  {
   "cell_type": "code",
   "execution_count": 17,
   "metadata": {},
   "outputs": [],
   "source": [
    "html_page = requests.get('http://books.toscrape.com/catalogue/page-1.html')\n",
    "soup = BeautifulSoup(html_page.content)"
   ]
  },
  {
   "cell_type": "code",
   "execution_count": 92,
   "metadata": {},
   "outputs": [
    {
     "data": {
      "text/plain": [
       "'<!DOCTYPE html>\\n<!--[if lt IE 7]>      <html lang=\"en-us\" class=\"no-js lt-ie9 lt-ie8 lt-ie7\"> <![endif]-->\\n<!--[if IE 7]>         <html lang=\"en-us\" class=\"no-js lt-ie9 lt-ie8\"> <![endif]-->\\n<!--[if IE 8]>         <html lang=\"en-us\" class=\"no-js lt-ie9\"> <![endif]-->\\n<!--[if gt IE 8]><!-->\\n<html class=\"no-js\" lang=\"en-us\">\\n <!--<![endif]-->\\n <head>\\n  <title>\\n   All products | Books to Scrape - Sandbox\\n  </title>\\n  <meta content=\"text/html; charset=utf-8\" http-equiv=\"content-type\"/>\\n  <meta content=\"24th Jun 2016 09:33\" name=\"created\"/>\\n  <meta content=\"\" name=\"description\"/>\\n  <meta content=\"width=device-width\" name=\"viewport\"/>\\n  <meta content=\"NOARCHIVE,NOCACHE\" name=\"robots\"/>\\n  <!-- Le HTML5 shim, for IE6-8 support of HTML elements -->\\n  <!--[if lt IE 9]>\\n        <script src=\"//html5shim.googlecode.com/svn/trunk/html5.js\"></script>\\n        <![endif]-->\\n  <link href=\"../static/oscar/favicon.ico\" rel=\"shortcut icon\"/>\\n  <link href=\"../static/oscar/css/styles.css\" rel=\"stylesheet\" type=\"text/css\"/>\\n  <link href=\"../static/oscar/js/bootstrap-datetimepicker/bootstrap-datetimepicker.css\" rel=\"stylesheet\"/>\\n  <link href=\"../static/oscar/css/datetimepicker.css\" rel=\"stylesheet\" type=\"text/css\"/>\\n </head>\\n <body class=\"default\" id=\"default\">\\n  <header class=\"header container-fluid\">\\n   <div class=\"page_inner\">\\n    <div class=\"row\">\\n     <div class=\"col-sm-8 h1\">\\n      <a href=\"../index.html\">\\n       Books to Scrape\\n      </a>\\n      <small>\\n       We love being scraped!\\n      </small>\\n     </div>\\n    </div>\\n   </div>\\n  </header>\\n  <div class=\"container-fluid page\">\\n   <div class=\"page_inner\">\\n    <ul class=\"breadcrumb\">\\n     <li>\\n      <a href=\"../index.html\">\\n       Home\\n      </a>\\n     </li>\\n     <li class=\"active\">\\n      All products\\n     </li>\\n    </ul>\\n    <div class=\"row\">\\n     <aside class=\"sidebar col-sm-4 col-md-3\">\\n      <div id=\"promotions_left\">\\n      </div>\\n      <div class=\"side_categories\">\\n       <ul class=\"nav nav-list\">\\n        <li>\\n         <a href=\"category/books_1/index.html\">\\n          Books\\n         </a>\\n         <ul>\\n          <li>\\n           <a href=\"category/books/travel_2/index.html\">\\n            Travel\\n           </a>\\n          </li>\\n          <li>\\n           <a href=\"category/books/mystery_3/index.html\">\\n            Mystery\\n           </a>\\n          </li>\\n          <li>\\n           <a href=\"category/books/historical-fiction_4/index.html\">\\n            Historical Fiction\\n           </a>\\n          </li>\\n          <li>\\n           <a href=\"category/books/sequential-art_5/index.html\">\\n            Sequential Art\\n           </a>\\n          </li>\\n          <li>\\n           <a href=\"category/books/classics_6/index.html\">\\n            Classics\\n           </a>\\n          </li>\\n          <li>\\n           <a href=\"category/books/philosophy_7/index.html\">\\n            Philosophy\\n           </a>\\n          </li>\\n          <li>\\n           <a href=\"category/books/romance_8/index.html\">\\n            Romance\\n           </a>\\n          </li>\\n          <li>\\n           <a href=\"category/books/womens-fiction_9/index.html\">\\n            Womens Fiction\\n           </a>\\n          </li>\\n          <li>\\n           <a href=\"category/books/fiction_10/index.html\">\\n            Fiction\\n           </a>\\n          </li>\\n          <li>\\n           <a href=\"category/books/childrens_11/index.html\">\\n            Childrens\\n           </a>\\n          </li>\\n          <li>\\n           <a href=\"category/books/religion_12/index.html\">\\n            Religion\\n           </a>\\n          </li>\\n          <li>\\n           <a href=\"category/books/nonfiction_13/index.html\">\\n            Nonfiction\\n           </a>\\n          </li>\\n          <li>\\n           <a href=\"category/books/music_14/index.html\">\\n            Music\\n           </a>\\n          </li>\\n          <li>\\n           <a href=\"category/books/default_15/index.html\">\\n            Default\\n           </a>\\n          </li>\\n          <li>\\n           <a href=\"category/books/science-fiction_16/index.html\">\\n            Science Fiction\\n           </a>\\n          </li>\\n          <li>\\n           <a href=\"category/books/sports-and-games_17/index.html\">\\n            Sports and Games\\n           </a>\\n          </li>\\n          <li>\\n           <a href=\"category/books/add-a-comment_18/index.html\">\\n            Add a comment\\n           </a>\\n          </li>\\n          <li>\\n           <a href=\"category/books/fantasy_19/index.html\">\\n            Fantasy\\n           </a>\\n          </li>\\n          <li>\\n           <a href=\"category/books/new-adult_20/index.html\">\\n            New Adult\\n           </a>\\n          </li>\\n          <li>\\n           <a href=\"category/books/young-adult_21/index.html\">\\n            Young Adult\\n           </a>\\n          </li>\\n          <li>\\n           <a href=\"category/books/science_22/index.html\">\\n            Science\\n           </a>\\n          </li>\\n          <li>\\n           <a href=\"category/books/poetry_23/index.html\">\\n            Poetry\\n           </a>\\n          </li>\\n          <li>\\n           <a href=\"category/books/paranormal_24/index.html\">\\n            Paranormal\\n           </a>\\n          </li>\\n          <li>\\n           <a href=\"category/books/art_25/index.html\">\\n            Art\\n           </a>\\n          </li>\\n          <li>\\n           <a href=\"category/books/psychology_26/index.html\">\\n            Psychology\\n           </a>\\n          </li>\\n          <li>\\n           <a href=\"category/books/autobiography_27/index.html\">\\n            Autobiography\\n           </a>\\n          </li>\\n          <li>\\n           <a href=\"category/books/parenting_28/index.html\">\\n            Parenting\\n           </a>\\n          </li>\\n          <li>\\n           <a href=\"category/books/adult-fiction_29/index.html\">\\n            Adult Fiction\\n           </a>\\n          </li>\\n          <li>\\n           <a href=\"category/books/humor_30/index.html\">\\n            Humor\\n           </a>\\n          </li>\\n          <li>\\n           <a href=\"category/books/horror_31/index.html\">\\n            Horror\\n           </a>\\n          </li>\\n          <li>\\n           <a href=\"category/books/history_32/index.html\">\\n            History\\n           </a>\\n          </li>\\n          <li>\\n           <a href=\"category/books/food-and-drink_33/index.html\">\\n            Food and Drink\\n           </a>\\n          </li>\\n          <li>\\n           <a href=\"category/books/christian-fiction_34/index.html\">\\n            Christian Fiction\\n           </a>\\n          </li>\\n          <li>\\n           <a href=\"category/books/business_35/index.html\">\\n            Business\\n           </a>\\n          </li>\\n          <li>\\n           <a href=\"category/books/biography_36/index.html\">\\n            Biography\\n           </a>\\n          </li>\\n          <li>\\n           <a href=\"category/books/thriller_37/index.html\">\\n            Thriller\\n           </a>\\n          </li>\\n          <li>\\n           <a href=\"category/books/contemporary_38/index.html\">\\n            Contemporary\\n           </a>\\n          </li>\\n          <li>\\n           <a href=\"category/books/spirituality_39/index.html\">\\n            Spirituality\\n           </a>\\n          </li>\\n          <li>\\n           <a href=\"category/books/academic_40/index.html\">\\n            Academic\\n           </a>\\n          </li>\\n          <li>\\n           <a href=\"category/books/self-help_41/index.html\">\\n            Self Help\\n           </a>\\n          </li>\\n          <li>\\n           <a href=\"category/books/historical_42/index.html\">\\n            Historical\\n           </a>\\n          </li>\\n          <li>\\n           <a href=\"category/books/christian_43/index.html\">\\n            Christian\\n           </a>\\n          </li>\\n          <li>\\n           <a href=\"category/books/suspense_44/index.html\">\\n            Suspense\\n           </a>\\n          </li>\\n          <li>\\n           <a href=\"category/books/short-stories_45/index.html\">\\n            Short Stories\\n           </a>\\n          </li>\\n          <li>\\n           <a href=\"category/books/novels_46/index.html\">\\n            Novels\\n           </a>\\n          </li>\\n          <li>\\n           <a href=\"category/books/health_47/index.html\">\\n            Health\\n           </a>\\n          </li>\\n          <li>\\n           <a href=\"category/books/politics_48/index.html\">\\n            Politics\\n           </a>\\n          </li>\\n          <li>\\n           <a href=\"category/books/cultural_49/index.html\">\\n            Cultural\\n           </a>\\n          </li>\\n          <li>\\n           <a href=\"category/books/erotica_50/index.html\">\\n            Erotica\\n           </a>\\n          </li>\\n          <li>\\n           <a href=\"category/books/crime_51/index.html\">\\n            Crime\\n           </a>\\n          </li>\\n         </ul>\\n        </li>\\n       </ul>\\n      </div>\\n     </aside>\\n     <div class=\"col-sm-8 col-md-9\">\\n      <div class=\"page-header action\">\\n       <h1>\\n        All products\\n       </h1>\\n      </div>\\n      <div id=\"messages\">\\n      </div>\\n      <div id=\"promotions\">\\n      </div>\\n      <form class=\"form-horizontal\" method=\"get\">\\n       <div style=\"display:none\">\\n       </div>\\n       <strong>\\n        1000\\n       </strong>\\n       results - showing\\n       <strong>\\n        981\\n       </strong>\\n       to\\n       <strong>\\n        1000\\n       </strong>\\n       .\\n      </form>\\n      <section>\\n       <div class=\"alert alert-warning\" role=\"alert\">\\n        <strong>\\n         Warning!\\n        </strong>\\n        This is a demo website for web scraping purposes. Prices and ratings here were randomly assigned and have no real meaning.\\n       </div>\\n       <div>\\n        <ol class=\"row\">\\n         <li class=\"col-xs-6 col-sm-4 col-md-3 col-lg-3\">\\n          <article class=\"product_pod\">\\n           <div class=\"image_container\">\\n            <a href=\"frankenstein_20/index.html\">\\n             <img alt=\"Frankenstein\" class=\"thumbnail\" src=\"../media/cache/00/25/0025515e987a1ebd648773f9ac70bfe6.jpg\"/>\\n            </a>\\n           </div>\\n           <p class=\"star-rating Two\">\\n            <i class=\"icon-star\">\\n            </i>\\n            <i class=\"icon-star\">\\n            </i>\\n            <i class=\"icon-star\">\\n            </i>\\n            <i class=\"icon-star\">\\n            </i>\\n            <i class=\"icon-star\">\\n            </i>\\n           </p>\\n           <h3>\\n            <a href=\"frankenstein_20/index.html\" title=\"Frankenstein\">\\n             Frankenstein\\n            </a>\\n           </h3>\\n           <div class=\"product_price\">\\n            <p class=\"price_color\">\\n             £38.00\\n            </p>\\n            <p class=\"instock availability\">\\n             <i class=\"icon-ok\">\\n             </i>\\n             In stock\\n            </p>\\n            <form>\\n             <button class=\"btn btn-primary btn-block\" data-loading-text=\"Adding...\" type=\"submit\">\\n              Add to basket\\n             </button>\\n            </form>\\n           </div>\\n          </article>\\n         </li>\\n         <li class=\"col-xs-6 col-sm-4 col-md-3 col-lg-3\">\\n          <article class=\"product_pod\">\\n           <div class=\"image_container\">\\n            <a href=\"forever-rockers-the-rocker-12_19/index.html\">\\n             <img alt=\"Forever Rockers (The Rocker #12)\" class=\"thumbnail\" src=\"../media/cache/7f/b0/7fb03a053c270000667a50dd8d594843.jpg\"/>\\n            </a>\\n           </div>\\n           <p class=\"star-rating Three\">\\n            <i class=\"icon-star\">\\n            </i>\\n            <i class=\"icon-star\">\\n            </i>\\n            <i class=\"icon-star\">\\n            </i>\\n            <i class=\"icon-star\">\\n            </i>\\n            <i class=\"icon-star\">\\n            </i>\\n           </p>\\n           <h3>\\n            <a href=\"forever-rockers-the-rocker-12_19/index.html\" title=\"Forever Rockers (The Rocker #12)\">\\n             Forever Rockers (The Rocker ...\\n            </a>\\n           </h3>\\n           <div class=\"product_price\">\\n            <p class=\"price_color\">\\n             £28.80\\n            </p>\\n            <p class=\"instock availability\">\\n             <i class=\"icon-ok\">\\n             </i>\\n             In stock\\n            </p>\\n            <form>\\n             <button class=\"btn btn-primary btn-block\" data-loading-text=\"Adding...\" type=\"submit\">\\n              Add to basket\\n             </button>\\n            </form>\\n           </div>\\n          </article>\\n         </li>\\n         <li class=\"col-xs-6 col-sm-4 col-md-3 col-lg-3\">\\n          <article class=\"product_pod\">\\n           <div class=\"image_container\">\\n            <a href=\"fighting-fate-fighting-6_18/index.html\">\\n             <img alt=\"Fighting Fate (Fighting #6)\" class=\"thumbnail\" src=\"../media/cache/57/e2/57e255929f6e597c18cb3843904cd92b.jpg\"/>\\n            </a>\\n           </div>\\n           <p class=\"star-rating Three\">\\n            <i class=\"icon-star\">\\n            </i>\\n            <i class=\"icon-star\">\\n            </i>\\n            <i class=\"icon-star\">\\n            </i>\\n            <i class=\"icon-star\">\\n            </i>\\n            <i class=\"icon-star\">\\n            </i>\\n           </p>\\n           <h3>\\n            <a href=\"fighting-fate-fighting-6_18/index.html\" title=\"Fighting Fate (Fighting #6)\">\\n             Fighting Fate (Fighting #6)\\n            </a>\\n           </h3>\\n           <div class=\"product_price\">\\n            <p class=\"price_color\">\\n             £39.24\\n            </p>\\n            <p class=\"instock availability\">\\n             <i class=\"icon-ok\">\\n             </i>\\n             In stock\\n            </p>\\n            <form>\\n             <button class=\"btn btn-primary btn-block\" data-loading-text=\"Adding...\" type=\"submit\">\\n              Add to basket\\n             </button>\\n            </form>\\n           </div>\\n          </article>\\n         </li>\\n         <li class=\"col-xs-6 col-sm-4 col-md-3 col-lg-3\">\\n          <article class=\"product_pod\">\\n           <div class=\"image_container\">\\n            <a href=\"emma_17/index.html\">\\n             <img alt=\"Emma\" class=\"thumbnail\" src=\"../media/cache/09/63/09638baaef52f03827c215029c632a13.jpg\"/>\\n            </a>\\n           </div>\\n           <p class=\"star-rating Two\">\\n            <i class=\"icon-star\">\\n            </i>\\n            <i class=\"icon-star\">\\n            </i>\\n            <i class=\"icon-star\">\\n            </i>\\n            <i class=\"icon-star\">\\n            </i>\\n            <i class=\"icon-star\">\\n            </i>\\n           </p>\\n           <h3>\\n            <a href=\"emma_17/index.html\" title=\"Emma\">\\n             Emma\\n            </a>\\n           </h3>\\n           <div class=\"product_price\">\\n            <p class=\"price_color\">\\n             £32.93\\n            </p>\\n            <p class=\"instock availability\">\\n             <i class=\"icon-ok\">\\n             </i>\\n             In stock\\n            </p>\\n            <form>\\n             <button class=\"btn btn-primary btn-block\" data-loading-text=\"Adding...\" type=\"submit\">\\n              Add to basket\\n             </button>\\n            </form>\\n           </div>\\n          </article>\\n         </li>\\n         <li class=\"col-xs-6 col-sm-4 col-md-3 col-lg-3\">\\n          <article class=\"product_pod\">\\n           <div class=\"image_container\">\\n            <a href=\"eat-pray-love_16/index.html\">\\n             <img alt=\"Eat, Pray, Love\" class=\"thumbnail\" src=\"../media/cache/21/95/2195c296e82620593a143356aeaa7745.jpg\"/>\\n            </a>\\n           </div>\\n           <p class=\"star-rating Three\">\\n            <i class=\"icon-star\">\\n            </i>\\n            <i class=\"icon-star\">\\n            </i>\\n            <i class=\"icon-star\">\\n            </i>\\n            <i class=\"icon-star\">\\n            </i>\\n            <i class=\"icon-star\">\\n            </i>\\n           </p>\\n           <h3>\\n            <a href=\"eat-pray-love_16/index.html\" title=\"Eat, Pray, Love\">\\n             Eat, Pray, Love\\n            </a>\\n           </h3>\\n           <div class=\"product_price\">\\n            <p class=\"price_color\">\\n             £51.32\\n            </p>\\n            <p class=\"instock availability\">\\n             <i class=\"icon-ok\">\\n             </i>\\n             In stock\\n            </p>\\n            <form>\\n             <button class=\"btn btn-primary btn-block\" data-loading-text=\"Adding...\" type=\"submit\">\\n              Add to basket\\n             </button>\\n            </form>\\n           </div>\\n          </article>\\n         </li>\\n         <li class=\"col-xs-6 col-sm-4 col-md-3 col-lg-3\">\\n          <article class=\"product_pod\">\\n           <div class=\"image_container\">\\n            <a href=\"deep-under-walker-security-1_15/index.html\">\\n             <img alt=\"Deep Under (Walker Security #1)\" class=\"thumbnail\" src=\"../media/cache/74/e4/74e4ec43c40926c7b57fc0fe0f397183.jpg\"/>\\n            </a>\\n           </div>\\n           <p class=\"star-rating Five\">\\n            <i class=\"icon-star\">\\n            </i>\\n            <i class=\"icon-star\">\\n            </i>\\n            <i class=\"icon-star\">\\n            </i>\\n            <i class=\"icon-star\">\\n            </i>\\n            <i class=\"icon-star\">\\n            </i>\\n           </p>\\n           <h3>\\n            <a href=\"deep-under-walker-security-1_15/index.html\" title=\"Deep Under (Walker Security #1)\">\\n             Deep Under (Walker Security ...\\n            </a>\\n           </h3>\\n           <div class=\"product_price\">\\n            <p class=\"price_color\">\\n             £47.09\\n            </p>\\n            <p class=\"instock availability\">\\n             <i class=\"icon-ok\">\\n             </i>\\n             In stock\\n            </p>\\n            <form>\\n             <button class=\"btn btn-primary btn-block\" data-loading-text=\"Adding...\" type=\"submit\">\\n              Add to basket\\n             </button>\\n            </form>\\n           </div>\\n          </article>\\n         </li>\\n         <li class=\"col-xs-6 col-sm-4 col-md-3 col-lg-3\">\\n          <article class=\"product_pod\">\\n           <div class=\"image_container\">\\n            <a href=\"choosing-our-religion-the-spiritual-lives-of-americas-nones_14/index.html\">\\n             <img alt=\"Choosing Our Religion: The Spiritual Lives of America\\'s Nones\" class=\"thumbnail\" src=\"../media/cache/df/ab/dfabeab158046237ddb6b713b794909f.jpg\"/>\\n            </a>\\n           </div>\\n           <p class=\"star-rating Four\">\\n            <i class=\"icon-star\">\\n            </i>\\n            <i class=\"icon-star\">\\n            </i>\\n            <i class=\"icon-star\">\\n            </i>\\n            <i class=\"icon-star\">\\n            </i>\\n            <i class=\"icon-star\">\\n            </i>\\n           </p>\\n           <h3>\\n            <a href=\"choosing-our-religion-the-spiritual-lives-of-americas-nones_14/index.html\" title=\"Choosing Our Religion: The Spiritual Lives of America\\'s Nones\">\\n             Choosing Our Religion: The ...\\n            </a>\\n           </h3>\\n           <div class=\"product_price\">\\n            <p class=\"price_color\">\\n             £28.42\\n            </p>\\n            <p class=\"instock availability\">\\n             <i class=\"icon-ok\">\\n             </i>\\n             In stock\\n            </p>\\n            <form>\\n             <button class=\"btn btn-primary btn-block\" data-loading-text=\"Adding...\" type=\"submit\">\\n              Add to basket\\n             </button>\\n            </form>\\n           </div>\\n          </article>\\n         </li>\\n         <li class=\"col-xs-6 col-sm-4 col-md-3 col-lg-3\">\\n          <article class=\"product_pod\">\\n           <div class=\"image_container\">\\n            <a href=\"charlie-and-the-chocolate-factory-charlie-bucket-1_13/index.html\">\\n             <img alt=\"Charlie and the Chocolate Factory (Charlie Bucket #1)\" class=\"thumbnail\" src=\"../media/cache/d6/cc/d6cc0c66e34dfc214b406208bbaf18e2.jpg\"/>\\n            </a>\\n           </div>\\n           <p class=\"star-rating Three\">\\n            <i class=\"icon-star\">\\n            </i>\\n            <i class=\"icon-star\">\\n            </i>\\n            <i class=\"icon-star\">\\n            </i>\\n            <i class=\"icon-star\">\\n            </i>\\n            <i class=\"icon-star\">\\n            </i>\\n           </p>\\n           <h3>\\n            <a href=\"charlie-and-the-chocolate-factory-charlie-bucket-1_13/index.html\" title=\"Charlie and the Chocolate Factory (Charlie Bucket #1)\">\\n             Charlie and the Chocolate ...\\n            </a>\\n           </h3>\\n           <div class=\"product_price\">\\n            <p class=\"price_color\">\\n             £22.85\\n            </p>\\n            <p class=\"instock availability\">\\n             <i class=\"icon-ok\">\\n             </i>\\n             In stock\\n            </p>\\n            <form>\\n             <button class=\"btn btn-primary btn-block\" data-loading-text=\"Adding...\" type=\"submit\">\\n              Add to basket\\n             </button>\\n            </form>\\n           </div>\\n          </article>\\n         </li>\\n         <li class=\"col-xs-6 col-sm-4 col-md-3 col-lg-3\">\\n          <article class=\"product_pod\">\\n           <div class=\"image_container\">\\n            <a href=\"charitys-cross-charles-towne-belles-4_12/index.html\">\\n             <img alt=\"Charity\\'s Cross (Charles Towne Belles #4)\" class=\"thumbnail\" src=\"../media/cache/39/e0/39e008f84bbd24b49a7532c2024b855e.jpg\"/>\\n            </a>\\n           </div>\\n           <p class=\"star-rating One\">\\n            <i class=\"icon-star\">\\n            </i>\\n            <i class=\"icon-star\">\\n            </i>\\n            <i class=\"icon-star\">\\n            </i>\\n            <i class=\"icon-star\">\\n            </i>\\n            <i class=\"icon-star\">\\n            </i>\\n           </p>\\n           <h3>\\n            <a href=\"charitys-cross-charles-towne-belles-4_12/index.html\" title=\"Charity\\'s Cross (Charles Towne Belles #4)\">\\n             Charity\\'s Cross (Charles Towne ...\\n            </a>\\n           </h3>\\n           <div class=\"product_price\">\\n            <p class=\"price_color\">\\n             £41.24\\n            </p>\\n            <p class=\"instock availability\">\\n             <i class=\"icon-ok\">\\n             </i>\\n             In stock\\n            </p>\\n            <form>\\n             <button class=\"btn btn-primary btn-block\" data-loading-text=\"Adding...\" type=\"submit\">\\n              Add to basket\\n             </button>\\n            </form>\\n           </div>\\n          </article>\\n         </li>\\n         <li class=\"col-xs-6 col-sm-4 col-md-3 col-lg-3\">\\n          <article class=\"product_pod\">\\n           <div class=\"image_container\">\\n            <a href=\"bright-lines_11/index.html\">\\n             <img alt=\"Bright Lines\" class=\"thumbnail\" src=\"../media/cache/12/43/1243e7eb614f57f0e4cfee80553fa312.jpg\"/>\\n            </a>\\n           </div>\\n           <p class=\"star-rating Five\">\\n            <i class=\"icon-star\">\\n            </i>\\n            <i class=\"icon-star\">\\n            </i>\\n            <i class=\"icon-star\">\\n            </i>\\n            <i class=\"icon-star\">\\n            </i>\\n            <i class=\"icon-star\">\\n            </i>\\n           </p>\\n           <h3>\\n            <a href=\"bright-lines_11/index.html\" title=\"Bright Lines\">\\n             Bright Lines\\n            </a>\\n           </h3>\\n           <div class=\"product_price\">\\n            <p class=\"price_color\">\\n             £39.07\\n            </p>\\n            <p class=\"instock availability\">\\n             <i class=\"icon-ok\">\\n             </i>\\n             In stock\\n            </p>\\n            <form>\\n             <button class=\"btn btn-primary btn-block\" data-loading-text=\"Adding...\" type=\"submit\">\\n              Add to basket\\n             </button>\\n            </form>\\n           </div>\\n          </article>\\n         </li>\\n         <li class=\"col-xs-6 col-sm-4 col-md-3 col-lg-3\">\\n          <article class=\"product_pod\">\\n           <div class=\"image_container\">\\n            <a href=\"bridget-joness-diary-bridget-jones-1_10/index.html\">\\n             <img alt=\"Bridget Jones\\'s Diary (Bridget Jones #1)\" class=\"thumbnail\" src=\"../media/cache/0c/32/0c329cbd2adf4e0dc825f892106673b2.jpg\"/>\\n            </a>\\n           </div>\\n           <p class=\"star-rating One\">\\n            <i class=\"icon-star\">\\n            </i>\\n            <i class=\"icon-star\">\\n            </i>\\n            <i class=\"icon-star\">\\n            </i>\\n            <i class=\"icon-star\">\\n            </i>\\n            <i class=\"icon-star\">\\n            </i>\\n           </p>\\n           <h3>\\n            <a href=\"bridget-joness-diary-bridget-jones-1_10/index.html\" title=\"Bridget Jones\\'s Diary (Bridget Jones #1)\">\\n             Bridget Jones\\'s Diary (Bridget ...\\n            </a>\\n           </h3>\\n           <div class=\"product_price\">\\n            <p class=\"price_color\">\\n             £29.82\\n            </p>\\n            <p class=\"instock availability\">\\n             <i class=\"icon-ok\">\\n             </i>\\n             In stock\\n            </p>\\n            <form>\\n             <button class=\"btn btn-primary btn-block\" data-loading-text=\"Adding...\" type=\"submit\">\\n              Add to basket\\n             </button>\\n            </form>\\n           </div>\\n          </article>\\n         </li>\\n         <li class=\"col-xs-6 col-sm-4 col-md-3 col-lg-3\">\\n          <article class=\"product_pod\">\\n           <div class=\"image_container\">\\n            <a href=\"bounty-colorado-mountain-7_9/index.html\">\\n             <img alt=\"Bounty (Colorado Mountain #7)\" class=\"thumbnail\" src=\"../media/cache/80/ff/80ff924ed78cd7c5172410d0d92f8dfe.jpg\"/>\\n            </a>\\n           </div>\\n           <p class=\"star-rating Four\">\\n            <i class=\"icon-star\">\\n            </i>\\n            <i class=\"icon-star\">\\n            </i>\\n            <i class=\"icon-star\">\\n            </i>\\n            <i class=\"icon-star\">\\n            </i>\\n            <i class=\"icon-star\">\\n            </i>\\n           </p>\\n           <h3>\\n            <a href=\"bounty-colorado-mountain-7_9/index.html\" title=\"Bounty (Colorado Mountain #7)\">\\n             Bounty (Colorado Mountain #7)\\n            </a>\\n           </h3>\\n           <div class=\"product_price\">\\n            <p class=\"price_color\">\\n             £37.26\\n            </p>\\n            <p class=\"instock availability\">\\n             <i class=\"icon-ok\">\\n             </i>\\n             In stock\\n            </p>\\n            <form>\\n             <button class=\"btn btn-primary btn-block\" data-loading-text=\"Adding...\" type=\"submit\">\\n              Add to basket\\n             </button>\\n            </form>\\n           </div>\\n          </article>\\n         </li>\\n         <li class=\"col-xs-6 col-sm-4 col-md-3 col-lg-3\">\\n          <article class=\"product_pod\">\\n           <div class=\"image_container\">\\n            <a href=\"blood-defense-samantha-brinkman-1_8/index.html\">\\n             <img alt=\"Blood Defense (Samantha Brinkman #1)\" class=\"thumbnail\" src=\"../media/cache/cb/f6/cbf6d4b61953f29d7eedd2c9e01a9d74.jpg\"/>\\n            </a>\\n           </div>\\n           <p class=\"star-rating Three\">\\n            <i class=\"icon-star\">\\n            </i>\\n            <i class=\"icon-star\">\\n            </i>\\n            <i class=\"icon-star\">\\n            </i>\\n            <i class=\"icon-star\">\\n            </i>\\n            <i class=\"icon-star\">\\n            </i>\\n           </p>\\n           <h3>\\n            <a href=\"blood-defense-samantha-brinkman-1_8/index.html\" title=\"Blood Defense (Samantha Brinkman #1)\">\\n             Blood Defense (Samantha Brinkman ...\\n            </a>\\n           </h3>\\n           <div class=\"product_price\">\\n            <p class=\"price_color\">\\n             £20.30\\n            </p>\\n            <p class=\"instock availability\">\\n             <i class=\"icon-ok\">\\n             </i>\\n             In stock\\n            </p>\\n            <form>\\n             <button class=\"btn btn-primary btn-block\" data-loading-text=\"Adding...\" type=\"submit\">\\n              Add to basket\\n             </button>\\n            </form>\\n           </div>\\n          </article>\\n         </li>\\n         <li class=\"col-xs-6 col-sm-4 col-md-3 col-lg-3\">\\n          <article class=\"product_pod\">\\n           <div class=\"image_container\">\\n            <a href=\"bleach-vol-1-strawberry-and-the-soul-reapers-bleach-1_7/index.html\">\\n             <img alt=\"Bleach, Vol. 1: Strawberry and the Soul Reapers (Bleach #1)\" class=\"thumbnail\" src=\"../media/cache/a8/38/a8383903c98af18b898b9d70d5be2c16.jpg\"/>\\n            </a>\\n           </div>\\n           <p class=\"star-rating Five\">\\n            <i class=\"icon-star\">\\n            </i>\\n            <i class=\"icon-star\">\\n            </i>\\n            <i class=\"icon-star\">\\n            </i>\\n            <i class=\"icon-star\">\\n            </i>\\n            <i class=\"icon-star\">\\n            </i>\\n           </p>\\n           <h3>\\n            <a href=\"bleach-vol-1-strawberry-and-the-soul-reapers-bleach-1_7/index.html\" title=\"Bleach, Vol. 1: Strawberry and the Soul Reapers (Bleach #1)\">\\n             Bleach, Vol. 1: Strawberry ...\\n            </a>\\n           </h3>\\n           <div class=\"product_price\">\\n            <p class=\"price_color\">\\n             £34.65\\n            </p>\\n            <p class=\"instock availability\">\\n             <i class=\"icon-ok\">\\n             </i>\\n             In stock\\n            </p>\\n            <form>\\n             <button class=\"btn btn-primary btn-block\" data-loading-text=\"Adding...\" type=\"submit\">\\n              Add to basket\\n             </button>\\n            </form>\\n           </div>\\n          </article>\\n         </li>\\n         <li class=\"col-xs-6 col-sm-4 col-md-3 col-lg-3\">\\n          <article class=\"product_pod\">\\n           <div class=\"image_container\">\\n            <a href=\"beyond-good-and-evil_6/index.html\">\\n             <img alt=\"Beyond Good and Evil\" class=\"thumbnail\" src=\"../media/cache/ab/45/ab45f300aa15066ad1260d6f1398d03e.jpg\"/>\\n            </a>\\n           </div>\\n           <p class=\"star-rating One\">\\n            <i class=\"icon-star\">\\n            </i>\\n            <i class=\"icon-star\">\\n            </i>\\n            <i class=\"icon-star\">\\n            </i>\\n            <i class=\"icon-star\">\\n            </i>\\n            <i class=\"icon-star\">\\n            </i>\\n           </p>\\n           <h3>\\n            <a href=\"beyond-good-and-evil_6/index.html\" title=\"Beyond Good and Evil\">\\n             Beyond Good and Evil\\n            </a>\\n           </h3>\\n           <div class=\"product_price\">\\n            <p class=\"price_color\">\\n             £43.38\\n            </p>\\n            <p class=\"instock availability\">\\n             <i class=\"icon-ok\">\\n             </i>\\n             In stock\\n            </p>\\n            <form>\\n             <button class=\"btn btn-primary btn-block\" data-loading-text=\"Adding...\" type=\"submit\">\\n              Add to basket\\n             </button>\\n            </form>\\n           </div>\\n          </article>\\n         </li>\\n         <li class=\"col-xs-6 col-sm-4 col-md-3 col-lg-3\">\\n          <article class=\"product_pod\">\\n           <div class=\"image_container\">\\n            <a href=\"alice-in-wonderland-alices-adventures-in-wonderland-1_5/index.html\">\\n             <img alt=\"Alice in Wonderland (Alice\\'s Adventures in Wonderland #1)\" class=\"thumbnail\" src=\"../media/cache/96/ee/96ee77d71a31b7694dac6855f6affe4e.jpg\"/>\\n            </a>\\n           </div>\\n           <p class=\"star-rating One\">\\n            <i class=\"icon-star\">\\n            </i>\\n            <i class=\"icon-star\">\\n            </i>\\n            <i class=\"icon-star\">\\n            </i>\\n            <i class=\"icon-star\">\\n            </i>\\n            <i class=\"icon-star\">\\n            </i>\\n           </p>\\n           <h3>\\n            <a href=\"alice-in-wonderland-alices-adventures-in-wonderland-1_5/index.html\" title=\"Alice in Wonderland (Alice\\'s Adventures in Wonderland #1)\">\\n             Alice in Wonderland (Alice\\'s ...\\n            </a>\\n           </h3>\\n           <div class=\"product_price\">\\n            <p class=\"price_color\">\\n             £55.53\\n            </p>\\n            <p class=\"instock availability\">\\n             <i class=\"icon-ok\">\\n             </i>\\n             In stock\\n            </p>\\n            <form>\\n             <button class=\"btn btn-primary btn-block\" data-loading-text=\"Adding...\" type=\"submit\">\\n              Add to basket\\n             </button>\\n            </form>\\n           </div>\\n          </article>\\n         </li>\\n         <li class=\"col-xs-6 col-sm-4 col-md-3 col-lg-3\">\\n          <article class=\"product_pod\">\\n           <div class=\"image_container\">\\n            <a href=\"ajin-demi-human-volume-1-ajin-demi-human-1_4/index.html\">\\n             <img alt=\"Ajin: Demi-Human, Volume 1 (Ajin: Demi-Human #1)\" class=\"thumbnail\" src=\"../media/cache/09/7c/097cb5ecc6fb3fbe1690cf0cbdea4ac5.jpg\"/>\\n            </a>\\n           </div>\\n           <p class=\"star-rating Four\">\\n            <i class=\"icon-star\">\\n            </i>\\n            <i class=\"icon-star\">\\n            </i>\\n            <i class=\"icon-star\">\\n            </i>\\n            <i class=\"icon-star\">\\n            </i>\\n            <i class=\"icon-star\">\\n            </i>\\n           </p>\\n           <h3>\\n            <a href=\"ajin-demi-human-volume-1-ajin-demi-human-1_4/index.html\" title=\"Ajin: Demi-Human, Volume 1 (Ajin: Demi-Human #1)\">\\n             Ajin: Demi-Human, Volume 1 ...\\n            </a>\\n           </h3>\\n           <div class=\"product_price\">\\n            <p class=\"price_color\">\\n             £57.06\\n            </p>\\n            <p class=\"instock availability\">\\n             <i class=\"icon-ok\">\\n             </i>\\n             In stock\\n            </p>\\n            <form>\\n             <button class=\"btn btn-primary btn-block\" data-loading-text=\"Adding...\" type=\"submit\">\\n              Add to basket\\n             </button>\\n            </form>\\n           </div>\\n          </article>\\n         </li>\\n         <li class=\"col-xs-6 col-sm-4 col-md-3 col-lg-3\">\\n          <article class=\"product_pod\">\\n           <div class=\"image_container\">\\n            <a href=\"a-spys-devotion-the-regency-spies-of-london-1_3/index.html\">\\n             <img alt=\"A Spy\\'s Devotion (The Regency Spies of London #1)\" class=\"thumbnail\" src=\"../media/cache/1b/5f/1b5ff86f3c75e51e24c573d3f8bffd8f.jpg\"/>\\n            </a>\\n           </div>\\n           <p class=\"star-rating Five\">\\n            <i class=\"icon-star\">\\n            </i>\\n            <i class=\"icon-star\">\\n            </i>\\n            <i class=\"icon-star\">\\n            </i>\\n            <i class=\"icon-star\">\\n            </i>\\n            <i class=\"icon-star\">\\n            </i>\\n           </p>\\n           <h3>\\n            <a href=\"a-spys-devotion-the-regency-spies-of-london-1_3/index.html\" title=\"A Spy\\'s Devotion (The Regency Spies of London #1)\">\\n             A Spy\\'s Devotion (The ...\\n            </a>\\n           </h3>\\n           <div class=\"product_price\">\\n            <p class=\"price_color\">\\n             £16.97\\n            </p>\\n            <p class=\"instock availability\">\\n             <i class=\"icon-ok\">\\n             </i>\\n             In stock\\n            </p>\\n            <form>\\n             <button class=\"btn btn-primary btn-block\" data-loading-text=\"Adding...\" type=\"submit\">\\n              Add to basket\\n             </button>\\n            </form>\\n           </div>\\n          </article>\\n         </li>\\n         <li class=\"col-xs-6 col-sm-4 col-md-3 col-lg-3\">\\n          <article class=\"product_pod\">\\n           <div class=\"image_container\">\\n            <a href=\"1st-to-die-womens-murder-club-1_2/index.html\">\\n             <img alt=\"1st to Die (Women\\'s Murder Club #1)\" class=\"thumbnail\" src=\"../media/cache/2b/41/2b4161c5b72a4ae386b644682361b34a.jpg\"/>\\n            </a>\\n           </div>\\n           <p class=\"star-rating One\">\\n            <i class=\"icon-star\">\\n            </i>\\n            <i class=\"icon-star\">\\n            </i>\\n            <i class=\"icon-star\">\\n            </i>\\n            <i class=\"icon-star\">\\n            </i>\\n            <i class=\"icon-star\">\\n            </i>\\n           </p>\\n           <h3>\\n            <a href=\"1st-to-die-womens-murder-club-1_2/index.html\" title=\"1st to Die (Women\\'s Murder Club #1)\">\\n             1st to Die (Women\\'s ...\\n            </a>\\n           </h3>\\n           <div class=\"product_price\">\\n            <p class=\"price_color\">\\n             £53.98\\n            </p>\\n            <p class=\"instock availability\">\\n             <i class=\"icon-ok\">\\n             </i>\\n             In stock\\n            </p>\\n            <form>\\n             <button class=\"btn btn-primary btn-block\" data-loading-text=\"Adding...\" type=\"submit\">\\n              Add to basket\\n             </button>\\n            </form>\\n           </div>\\n          </article>\\n         </li>\\n         <li class=\"col-xs-6 col-sm-4 col-md-3 col-lg-3\">\\n          <article class=\"product_pod\">\\n           <div class=\"image_container\">\\n            <a href=\"1000-places-to-see-before-you-die_1/index.html\">\\n             <img alt=\"1,000 Places to See Before You Die\" class=\"thumbnail\" src=\"../media/cache/d7/0f/d70f7edd92705c45a82118c3ff6c299d.jpg\"/>\\n            </a>\\n           </div>\\n           <p class=\"star-rating Five\">\\n            <i class=\"icon-star\">\\n            </i>\\n            <i class=\"icon-star\">\\n            </i>\\n            <i class=\"icon-star\">\\n            </i>\\n            <i class=\"icon-star\">\\n            </i>\\n            <i class=\"icon-star\">\\n            </i>\\n           </p>\\n           <h3>\\n            <a href=\"1000-places-to-see-before-you-die_1/index.html\" title=\"1,000 Places to See Before You Die\">\\n             1,000 Places to See ...\\n            </a>\\n           </h3>\\n           <div class=\"product_price\">\\n            <p class=\"price_color\">\\n             £26.08\\n            </p>\\n            <p class=\"instock availability\">\\n             <i class=\"icon-ok\">\\n             </i>\\n             In stock\\n            </p>\\n            <form>\\n             <button class=\"btn btn-primary btn-block\" data-loading-text=\"Adding...\" type=\"submit\">\\n              Add to basket\\n             </button>\\n            </form>\\n           </div>\\n          </article>\\n         </li>\\n        </ol>\\n        <div>\\n         <ul class=\"pager\">\\n          <li class=\"previous\">\\n           <a href=\"page-49.html\">\\n            previous\\n           </a>\\n          </li>\\n          <li class=\"current\">\\n           Page 50 of 50\\n          </li>\\n         </ul>\\n        </div>\\n       </div>\\n      </section>\\n     </div>\\n    </div>\\n    <!-- /row -->\\n   </div>\\n   <!-- /page_inner -->\\n  </div>\\n  <!-- /container-fluid -->\\n  <footer class=\"footer container-fluid\">\\n  </footer>\\n  <!-- jQuery -->\\n  <script src=\"http://ajax.googleapis.com/ajax/libs/jquery/1.9.1/jquery.min.js\">\\n  </script>\\n  <script>\\n   window.jQuery || document.write(\\'<script src=\"../static/oscar/js/jquery/jquery-1.9.1.min.js\"><\\\\/script>\\')\\n  </script>\\n  <!-- Twitter Bootstrap -->\\n  <script src=\"../static/oscar/js/bootstrap3/bootstrap.min.js\" type=\"text/javascript\">\\n  </script>\\n  <!-- Oscar -->\\n  <script charset=\"utf-8\" src=\"../static/oscar/js/oscar/ui.js\" type=\"text/javascript\">\\n  </script>\\n  <script charset=\"utf-8\" src=\"../static/oscar/js/bootstrap-datetimepicker/bootstrap-datetimepicker.js\" type=\"text/javascript\">\\n  </script>\\n  <script charset=\"utf-8\" src=\"../static/oscar/js/bootstrap-datetimepicker/locales/bootstrap-datetimepicker.all.js\" type=\"text/javascript\">\\n  </script>\\n  <script type=\"text/javascript\">\\n   $(function() {\\n                \\n    \\n    \\n    oscar.init();\\n\\n    oscar.search.init();\\n\\n            });\\n  </script>\\n  <!-- Version: N/A -->\\n </body>\\n</html>\\n'"
      ]
     },
     "execution_count": 92,
     "metadata": {},
     "output_type": "execute_result"
    }
   ],
   "source": [
    "soup.prettify()\n"
   ]
  },
  {
   "cell_type": "code",
   "execution_count": 33,
   "metadata": {
    "code_folding": []
   },
   "outputs": [
    {
     "data": {
      "text/plain": [
       "['A Light in the Attic',\n",
       " 'Tipping the Velvet',\n",
       " 'Soumission',\n",
       " 'Sharp Objects',\n",
       " 'Sapiens: A Brief History of Humankind',\n",
       " 'The Requiem Red',\n",
       " 'The Dirty Little Secrets of Getting Your Dream Job',\n",
       " 'The Coming Woman: A Novel Based on the Life of the Infamous Feminist, Victoria Woodhull',\n",
       " 'The Boys in the Boat: Nine Americans and Their Epic Quest for Gold at the 1936 Berlin Olympics',\n",
       " 'The Black Maria',\n",
       " 'Starving Hearts (Triangular Trade Trilogy, #1)',\n",
       " \"Shakespeare's Sonnets\",\n",
       " 'Set Me Free',\n",
       " \"Scott Pilgrim's Precious Little Life (Scott Pilgrim #1)\",\n",
       " 'Rip it Up and Start Again',\n",
       " 'Our Band Could Be Your Life: Scenes from the American Indie Underground, 1981-1991',\n",
       " 'Olio',\n",
       " 'Mesaerion: The Best Science Fiction Stories 1800-1849',\n",
       " 'Libertarianism for Beginners',\n",
       " \"It's Only the Himalayas\"]"
      ]
     },
     "execution_count": 33,
     "metadata": {},
     "output_type": "execute_result"
    }
   ],
   "source": [
    "def retrieve_titles(soup):\n",
    "    title_list = [title_h.find(title=True).attrs['title'] \n",
    "              for title_h in soup.find_all('article', class_ = 'product_pod')]\n",
    "    return title_list\n",
    "\n",
    "retrieve_titles(soup)"
   ]
  },
  {
   "cell_type": "markdown",
   "metadata": {},
   "source": [
    "## Retrieve Ratings\n",
    "\n",
    "Next, write a similar function to retrieve the star ratings on a given page. Again, the function should take in the `soup` from the given HTML page and return a list of the star ratings for the books. These star ratings should be formatted as integers."
   ]
  },
  {
   "cell_type": "code",
   "execution_count": 48,
   "metadata": {},
   "outputs": [
    {
     "data": {
      "text/plain": [
       "[3, 1, 1, 4, 5, 1, 4, 3, 4, 1, 2, 4, 5, 5, 5, 3, 1, 1, 2, 2]"
      ]
     },
     "execution_count": 48,
     "metadata": {},
     "output_type": "execute_result"
    }
   ],
   "source": [
    "def retrieve_ratings(soup):\n",
    "    rating_dict = {'One':1, 'Two':2, 'Three':3, 'Four':4, 'Five':5}\n",
    "    \n",
    "    rating_list = [rating_dict[rating.attrs['class'][1]] \n",
    "              for rating \n",
    "              in soup.find_all('p', class_ = re.compile('star-rating *'))]\n",
    "    \n",
    "    return rating_list\n",
    "\n",
    "retrieve_ratings(soup)"
   ]
  },
  {
   "cell_type": "markdown",
   "metadata": {},
   "source": [
    "## Retrieve Prices\n",
    "\n",
    "Now write a function to retrieve the prices on a given page. The function should take in the `soup` from the given page and return a list of prices formatted as floats."
   ]
  },
  {
   "cell_type": "code",
   "execution_count": 60,
   "metadata": {},
   "outputs": [
    {
     "data": {
      "text/plain": [
       "[51.77,\n",
       " 53.74,\n",
       " 50.1,\n",
       " 47.82,\n",
       " 54.23,\n",
       " 22.65,\n",
       " 33.34,\n",
       " 17.93,\n",
       " 22.6,\n",
       " 52.15,\n",
       " 13.99,\n",
       " 20.66,\n",
       " 17.46,\n",
       " 52.29,\n",
       " 35.02,\n",
       " 57.25,\n",
       " 23.88,\n",
       " 37.59,\n",
       " 51.33,\n",
       " 45.17]"
      ]
     },
     "execution_count": 60,
     "metadata": {},
     "output_type": "execute_result"
    }
   ],
   "source": [
    "def retrieve_prices(soup):\n",
    "    price_list = [float(price.string[1:]) for price in soup.find_all('p', class_ = 'price_color')]\n",
    "    return price_list\n",
    "\n",
    "retrieve_prices(soup)"
   ]
  },
  {
   "cell_type": "markdown",
   "metadata": {},
   "source": [
    "## Retrieve Availability\n",
    "\n",
    "Write a function to retrieve whether each book is available or not. The function should take in the `soup` from a given html page and return a list of the availability for each book."
   ]
  },
  {
   "cell_type": "code",
   "execution_count": 66,
   "metadata": {},
   "outputs": [
    {
     "data": {
      "text/plain": [
       "['In stock',\n",
       " 'In stock',\n",
       " 'In stock',\n",
       " 'In stock',\n",
       " 'In stock',\n",
       " 'In stock',\n",
       " 'In stock',\n",
       " 'In stock',\n",
       " 'In stock',\n",
       " 'In stock',\n",
       " 'In stock',\n",
       " 'In stock',\n",
       " 'In stock',\n",
       " 'In stock',\n",
       " 'In stock',\n",
       " 'In stock',\n",
       " 'In stock',\n",
       " 'In stock',\n",
       " 'In stock',\n",
       " 'In stock']"
      ]
     },
     "execution_count": 66,
     "metadata": {},
     "output_type": "execute_result"
    }
   ],
   "source": [
    "def retrieve_availabilities(soup):\n",
    "    avail_list = [avail.contents[2].strip() for avail in soup.find_all('p', class_ = 'availability')]\n",
    "    return avail_list\n",
    "\n",
    "retrieve_availabilities(soup)"
   ]
  },
  {
   "cell_type": "markdown",
   "metadata": {},
   "source": [
    "## Create a Script to Retrieve All the Books From All 50 Pages\n",
    "\n",
    "Finally, write a script to retrieve all of the information from all 50 pages of the books.toscrape.com website. "
   ]
  },
  {
   "cell_type": "code",
   "execution_count": 91,
   "metadata": {},
   "outputs": [
    {
     "data": {
      "text/html": [
       "<div>\n",
       "<style scoped>\n",
       "    .dataframe tbody tr th:only-of-type {\n",
       "        vertical-align: middle;\n",
       "    }\n",
       "\n",
       "    .dataframe tbody tr th {\n",
       "        vertical-align: top;\n",
       "    }\n",
       "\n",
       "    .dataframe thead th {\n",
       "        text-align: right;\n",
       "    }\n",
       "</style>\n",
       "<table border=\"1\" class=\"dataframe\">\n",
       "  <thead>\n",
       "    <tr style=\"text-align: right;\">\n",
       "      <th></th>\n",
       "      <th>Title</th>\n",
       "      <th>Rating</th>\n",
       "      <th>Price</th>\n",
       "      <th>Availability</th>\n",
       "    </tr>\n",
       "  </thead>\n",
       "  <tbody>\n",
       "    <tr>\n",
       "      <th>0</th>\n",
       "      <td>A Light in the Attic</td>\n",
       "      <td>3</td>\n",
       "      <td>51.77</td>\n",
       "      <td>In stock</td>\n",
       "    </tr>\n",
       "    <tr>\n",
       "      <th>1</th>\n",
       "      <td>Tipping the Velvet</td>\n",
       "      <td>1</td>\n",
       "      <td>53.74</td>\n",
       "      <td>In stock</td>\n",
       "    </tr>\n",
       "    <tr>\n",
       "      <th>2</th>\n",
       "      <td>Soumission</td>\n",
       "      <td>1</td>\n",
       "      <td>50.10</td>\n",
       "      <td>In stock</td>\n",
       "    </tr>\n",
       "    <tr>\n",
       "      <th>3</th>\n",
       "      <td>Sharp Objects</td>\n",
       "      <td>4</td>\n",
       "      <td>47.82</td>\n",
       "      <td>In stock</td>\n",
       "    </tr>\n",
       "    <tr>\n",
       "      <th>4</th>\n",
       "      <td>Sapiens: A Brief History of Humankind</td>\n",
       "      <td>5</td>\n",
       "      <td>54.23</td>\n",
       "      <td>In stock</td>\n",
       "    </tr>\n",
       "    <tr>\n",
       "      <th>...</th>\n",
       "      <td>...</td>\n",
       "      <td>...</td>\n",
       "      <td>...</td>\n",
       "      <td>...</td>\n",
       "    </tr>\n",
       "    <tr>\n",
       "      <th>995</th>\n",
       "      <td>Alice in Wonderland (Alice's Adventures in Won...</td>\n",
       "      <td>1</td>\n",
       "      <td>55.53</td>\n",
       "      <td>In stock</td>\n",
       "    </tr>\n",
       "    <tr>\n",
       "      <th>996</th>\n",
       "      <td>Ajin: Demi-Human, Volume 1 (Ajin: Demi-Human #1)</td>\n",
       "      <td>4</td>\n",
       "      <td>57.06</td>\n",
       "      <td>In stock</td>\n",
       "    </tr>\n",
       "    <tr>\n",
       "      <th>997</th>\n",
       "      <td>A Spy's Devotion (The Regency Spies of London #1)</td>\n",
       "      <td>5</td>\n",
       "      <td>16.97</td>\n",
       "      <td>In stock</td>\n",
       "    </tr>\n",
       "    <tr>\n",
       "      <th>998</th>\n",
       "      <td>1st to Die (Women's Murder Club #1)</td>\n",
       "      <td>1</td>\n",
       "      <td>53.98</td>\n",
       "      <td>In stock</td>\n",
       "    </tr>\n",
       "    <tr>\n",
       "      <th>999</th>\n",
       "      <td>1,000 Places to See Before You Die</td>\n",
       "      <td>5</td>\n",
       "      <td>26.08</td>\n",
       "      <td>In stock</td>\n",
       "    </tr>\n",
       "  </tbody>\n",
       "</table>\n",
       "<p>1000 rows × 4 columns</p>\n",
       "</div>"
      ],
      "text/plain": [
       "                                                 Title  Rating  Price  \\\n",
       "0                                 A Light in the Attic       3  51.77   \n",
       "1                                   Tipping the Velvet       1  53.74   \n",
       "2                                           Soumission       1  50.10   \n",
       "3                                        Sharp Objects       4  47.82   \n",
       "4                Sapiens: A Brief History of Humankind       5  54.23   \n",
       "..                                                 ...     ...    ...   \n",
       "995  Alice in Wonderland (Alice's Adventures in Won...       1  55.53   \n",
       "996   Ajin: Demi-Human, Volume 1 (Ajin: Demi-Human #1)       4  57.06   \n",
       "997  A Spy's Devotion (The Regency Spies of London #1)       5  16.97   \n",
       "998                1st to Die (Women's Murder Club #1)       1  53.98   \n",
       "999                 1,000 Places to See Before You Die       5  26.08   \n",
       "\n",
       "    Availability  \n",
       "0       In stock  \n",
       "1       In stock  \n",
       "2       In stock  \n",
       "3       In stock  \n",
       "4       In stock  \n",
       "..           ...  \n",
       "995     In stock  \n",
       "996     In stock  \n",
       "997     In stock  \n",
       "998     In stock  \n",
       "999     In stock  \n",
       "\n",
       "[1000 rows x 4 columns]"
      ]
     },
     "execution_count": 91,
     "metadata": {},
     "output_type": "execute_result"
    }
   ],
   "source": [
    "df = pd.DataFrame()\n",
    "\n",
    "for i in range(1,51):\n",
    "    url = f\"http://books.toscrape.com/catalogue/page-{i}.html\"\n",
    "    html_page = requests.get(url)\n",
    "    soup = BeautifulSoup(html_page.content)\n",
    "    new_titles = retrieve_titles(soup)\n",
    "    new_star_ratings = retrieve_ratings(soup)\n",
    "    new_prices = retrieve_prices(soup)\n",
    "    new_avails = retrieve_availabilities(soup)\n",
    "\n",
    "    columns = ['Title', 'Rating', 'Price', 'Availability']\n",
    "    col_lists = [new_titles, new_star_ratings, new_prices, new_avails]\n",
    "    \n",
    "    if len(df) == 0:\n",
    "        # insert first page's results\n",
    "        for x, c in enumerate(columns):\n",
    "            df[c] = col_lists[x]\n",
    "    else:\n",
    "        # Insert supplemental page results in a new dataframe and combine\n",
    "        df2 = pd.DataFrame()\n",
    "        for x, c in enumerate(columns):\n",
    "            df2[c] = col_lists[x]\n",
    "        df = df.append(df2, ignore_index=True)\n",
    "        \n",
    "df"
   ]
  },
  {
   "cell_type": "markdown",
   "metadata": {},
   "source": [
    "## Level-Up: Write a new version of the script you just wrote. \n",
    "\n",
    "If you used URL hacking to generate each successive page URL, instead write a function that retrieves the link from the `\"next\"` button at the bottom of the page. Conversely, if you already used this approach above, use URL-hacking (arguably the easier of the two methods in this case)."
   ]
  },
  {
   "cell_type": "code",
   "execution_count": 107,
   "metadata": {
    "scrolled": true
   },
   "outputs": [
    {
     "name": "stdout",
     "output_type": "stream",
     "text": [
      "Working on page 1...\n",
      "Working on page 2...\n",
      "Working on page 3...\n",
      "Working on page 4...\n",
      "Working on page 5...\n",
      "Working on page 6...\n",
      "Working on page 7...\n",
      "Working on page 8...\n",
      "Working on page 9...\n",
      "Working on page 10...\n",
      "Working on page 11...\n",
      "Working on page 12...\n",
      "Working on page 13...\n",
      "Working on page 14...\n",
      "Working on page 15...\n",
      "Working on page 16...\n",
      "Working on page 17...\n",
      "Working on page 18...\n",
      "Working on page 19...\n",
      "Working on page 20...\n",
      "Working on page 21...\n",
      "Working on page 22...\n",
      "Working on page 23...\n",
      "Working on page 24...\n",
      "Working on page 25...\n",
      "Working on page 26...\n",
      "Working on page 27...\n",
      "Working on page 28...\n",
      "Working on page 29...\n",
      "Working on page 30...\n",
      "Working on page 31...\n",
      "Working on page 32...\n",
      "Working on page 33...\n",
      "Working on page 34...\n",
      "Working on page 35...\n",
      "Working on page 36...\n",
      "Working on page 37...\n",
      "Working on page 38...\n",
      "Working on page 39...\n",
      "Working on page 40...\n",
      "Working on page 41...\n",
      "Working on page 42...\n",
      "Working on page 43...\n",
      "Working on page 44...\n",
      "Working on page 45...\n",
      "Working on page 46...\n",
      "Working on page 47...\n",
      "Working on page 48...\n",
      "Working on page 49...\n",
      "Working on page 50...\n"
     ]
    },
    {
     "data": {
      "text/html": [
       "<div>\n",
       "<style scoped>\n",
       "    .dataframe tbody tr th:only-of-type {\n",
       "        vertical-align: middle;\n",
       "    }\n",
       "\n",
       "    .dataframe tbody tr th {\n",
       "        vertical-align: top;\n",
       "    }\n",
       "\n",
       "    .dataframe thead th {\n",
       "        text-align: right;\n",
       "    }\n",
       "</style>\n",
       "<table border=\"1\" class=\"dataframe\">\n",
       "  <thead>\n",
       "    <tr style=\"text-align: right;\">\n",
       "      <th></th>\n",
       "      <th>Title</th>\n",
       "      <th>Rating</th>\n",
       "      <th>Price</th>\n",
       "      <th>Availability</th>\n",
       "    </tr>\n",
       "  </thead>\n",
       "  <tbody>\n",
       "    <tr>\n",
       "      <th>0</th>\n",
       "      <td>A Light in the Attic</td>\n",
       "      <td>3</td>\n",
       "      <td>51.77</td>\n",
       "      <td>In stock</td>\n",
       "    </tr>\n",
       "    <tr>\n",
       "      <th>1</th>\n",
       "      <td>Tipping the Velvet</td>\n",
       "      <td>1</td>\n",
       "      <td>53.74</td>\n",
       "      <td>In stock</td>\n",
       "    </tr>\n",
       "    <tr>\n",
       "      <th>2</th>\n",
       "      <td>Soumission</td>\n",
       "      <td>1</td>\n",
       "      <td>50.10</td>\n",
       "      <td>In stock</td>\n",
       "    </tr>\n",
       "    <tr>\n",
       "      <th>3</th>\n",
       "      <td>Sharp Objects</td>\n",
       "      <td>4</td>\n",
       "      <td>47.82</td>\n",
       "      <td>In stock</td>\n",
       "    </tr>\n",
       "    <tr>\n",
       "      <th>4</th>\n",
       "      <td>Sapiens: A Brief History of Humankind</td>\n",
       "      <td>5</td>\n",
       "      <td>54.23</td>\n",
       "      <td>In stock</td>\n",
       "    </tr>\n",
       "    <tr>\n",
       "      <th>...</th>\n",
       "      <td>...</td>\n",
       "      <td>...</td>\n",
       "      <td>...</td>\n",
       "      <td>...</td>\n",
       "    </tr>\n",
       "    <tr>\n",
       "      <th>995</th>\n",
       "      <td>Our Band Could Be Your Life: Scenes from the A...</td>\n",
       "      <td>3</td>\n",
       "      <td>57.25</td>\n",
       "      <td>In stock</td>\n",
       "    </tr>\n",
       "    <tr>\n",
       "      <th>996</th>\n",
       "      <td>Olio</td>\n",
       "      <td>1</td>\n",
       "      <td>23.88</td>\n",
       "      <td>In stock</td>\n",
       "    </tr>\n",
       "    <tr>\n",
       "      <th>997</th>\n",
       "      <td>Mesaerion: The Best Science Fiction Stories 18...</td>\n",
       "      <td>1</td>\n",
       "      <td>37.59</td>\n",
       "      <td>In stock</td>\n",
       "    </tr>\n",
       "    <tr>\n",
       "      <th>998</th>\n",
       "      <td>Libertarianism for Beginners</td>\n",
       "      <td>2</td>\n",
       "      <td>51.33</td>\n",
       "      <td>In stock</td>\n",
       "    </tr>\n",
       "    <tr>\n",
       "      <th>999</th>\n",
       "      <td>It's Only the Himalayas</td>\n",
       "      <td>2</td>\n",
       "      <td>45.17</td>\n",
       "      <td>In stock</td>\n",
       "    </tr>\n",
       "  </tbody>\n",
       "</table>\n",
       "<p>1000 rows × 4 columns</p>\n",
       "</div>"
      ],
      "text/plain": [
       "                                                 Title  Rating  Price  \\\n",
       "0                                 A Light in the Attic       3  51.77   \n",
       "1                                   Tipping the Velvet       1  53.74   \n",
       "2                                           Soumission       1  50.10   \n",
       "3                                        Sharp Objects       4  47.82   \n",
       "4                Sapiens: A Brief History of Humankind       5  54.23   \n",
       "..                                                 ...     ...    ...   \n",
       "995  Our Band Could Be Your Life: Scenes from the A...       3  57.25   \n",
       "996                                               Olio       1  23.88   \n",
       "997  Mesaerion: The Best Science Fiction Stories 18...       1  37.59   \n",
       "998                       Libertarianism for Beginners       2  51.33   \n",
       "999                            It's Only the Himalayas       2  45.17   \n",
       "\n",
       "    Availability  \n",
       "0       In stock  \n",
       "1       In stock  \n",
       "2       In stock  \n",
       "3       In stock  \n",
       "4       In stock  \n",
       "..           ...  \n",
       "995     In stock  \n",
       "996     In stock  \n",
       "997     In stock  \n",
       "998     In stock  \n",
       "999     In stock  \n",
       "\n",
       "[1000 rows x 4 columns]"
      ]
     },
     "execution_count": 107,
     "metadata": {},
     "output_type": "execute_result"
    }
   ],
   "source": [
    "# Set up initial variables\n",
    "url = \"http://books.toscrape.com\"\n",
    "process_more = True\n",
    "columns = ['Title', 'Rating', 'Price', 'Availability']\n",
    "new_titles, new_star_ratings, new_prices, new_avails = [], [], [], []\n",
    "col_list = [new_titles, new_star_ratings, new_prices, new_avails]\n",
    "df = pd.DataFrame()\n",
    "page_num = 1\n",
    "\n",
    "while process_more:\n",
    "    # Load HTML and create soup\n",
    "    html_page = requests.get(url)\n",
    "    soup = BeautifulSoup(html_page.content)\n",
    "    print(f\"Working on page {page_num}...\")\n",
    "    \n",
    "    # Run function to get a list of the values that will become each column\n",
    "    new_titles = retrieve_titles(soup)\n",
    "    new_star_ratings = retrieve_ratings(soup)\n",
    "    new_prices = retrieve_prices(soup)\n",
    "    new_avails = retrieve_availabilities(soup)\n",
    "\n",
    "    # Get data from current page into dataframe\n",
    "    if len(df) == 0:\n",
    "        # insert first page's results\n",
    "        for x, c in enumerate(columns):\n",
    "            df[c] = col_lists[x]\n",
    "    else:\n",
    "        # Insert supplemental page results in a new dataframe and combine\n",
    "        df2 = pd.DataFrame()\n",
    "        for x, c in enumerate(columns):\n",
    "            df2[c] = col_lists[x]\n",
    "        df = df.append(df2, ignore_index=True)\n",
    "\n",
    "    # Check if there is a next page. If so, prepare for next loop\n",
    "    if soup.find('li', class_='next'):\n",
    "        # get partial next url\n",
    "        next_url = soup.find('li', class_='next').find('a').attrs['href']\n",
    "        # parse together next URL fragment with the page's full url\n",
    "        # url variable is now set to be next page\n",
    "        url = urllib.parse.urljoin(url,next_url)\n",
    "        page_num += 1\n",
    "    else:\n",
    "        process_more = False\n",
    "\n",
    "df\n"
   ]
  },
  {
   "cell_type": "markdown",
   "metadata": {},
   "source": [
    "## Summary\n",
    "\n",
    "Well done! You just completed your first full web scraping project! You're ready to start harnessing the power of the web!"
   ]
  }
 ],
 "metadata": {
  "kernelspec": {
   "display_name": "Python 3",
   "language": "python",
   "name": "python3"
  },
  "language_info": {
   "codemirror_mode": {
    "name": "ipython",
    "version": 3
   },
   "file_extension": ".py",
   "mimetype": "text/x-python",
   "name": "python",
   "nbconvert_exporter": "python",
   "pygments_lexer": "ipython3",
   "version": "3.8.5"
  },
  "toc": {
   "base_numbering": 1,
   "nav_menu": {},
   "number_sections": true,
   "sideBar": true,
   "skip_h1_title": false,
   "title_cell": "Table of Contents",
   "title_sidebar": "Contents",
   "toc_cell": false,
   "toc_position": {},
   "toc_section_display": true,
   "toc_window_display": false
  },
  "varInspector": {
   "cols": {
    "lenName": 16,
    "lenType": 16,
    "lenVar": 40
   },
   "kernels_config": {
    "python": {
     "delete_cmd_postfix": "",
     "delete_cmd_prefix": "del ",
     "library": "var_list.py",
     "varRefreshCmd": "print(var_dic_list())"
    },
    "r": {
     "delete_cmd_postfix": ") ",
     "delete_cmd_prefix": "rm(",
     "library": "var_list.r",
     "varRefreshCmd": "cat(var_dic_list()) "
    }
   },
   "types_to_exclude": [
    "module",
    "function",
    "builtin_function_or_method",
    "instance",
    "_Feature"
   ],
   "window_display": false
  }
 },
 "nbformat": 4,
 "nbformat_minor": 2
}
